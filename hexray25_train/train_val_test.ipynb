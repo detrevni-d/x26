{
 "cells": [
  {
   "cell_type": "code",
   "execution_count": null,
   "metadata": {},
   "outputs": [],
   "source": [
    "import fastcore.all as fc\n",
    "from sklearn.model_selection import train_test_split\n",
    "from hexray25.coco_utils import COCO"
   ]
  },
  {
   "cell_type": "code",
   "execution_count": null,
   "metadata": {},
   "outputs": [],
   "source": [
    "root = fc.Path(\"/home/ubuntu/foundations/vjt-data/\")\n",
    "images_loc = fc.L((root / \"images\").glob(\"*.png\"))\n",
    "annots1 = COCO.for_vjt(root / \"annotations/phase3_repeat_31may23.json\")\n",
    "annots2 = COCO.for_vjt(root / \"annotations/phase3a_30nov23_coco1.json\")\n",
    "annots3 = COCO.for_vjt(root / \"annotations/phase6_27apr24.json\")\n",
    "annots4 = COCO.for_vjt(root / \"annotations/phase6_23july24.json\")"
   ]
  },
  {
   "cell_type": "code",
   "execution_count": null,
   "metadata": {},
   "outputs": [],
   "source": [
    "ds1 = annots1.imgname\n",
    "ds2 = annots2.imgname\n",
    "ds3 = annots3.imgname\n",
    "ds4 = annots4.imgname\n",
    "len(ds1), len(ds2), len(ds3), len(ds4)"
   ]
  },
  {
   "cell_type": "code",
   "execution_count": null,
   "metadata": {},
   "outputs": [],
   "source": [
    "ds = ds1 + ds2 + ds3 + ds4\n",
    "len(ds)"
   ]
  },
  {
   "cell_type": "code",
   "execution_count": null,
   "metadata": {},
   "outputs": [],
   "source": [
    "train_ds, val_ds = train_test_split(ds1, test_size=0.1, random_state=42)"
   ]
  },
  {
   "cell_type": "code",
   "execution_count": null,
   "metadata": {},
   "outputs": [],
   "source": [
    "fc.Path(\"txt_files/ds1/\").mkdir(exist_ok=True)\n",
    "store = open(\"txt_files/ds1/train.txt\", \"w\")\n",
    "for i in train_ds:\n",
    "    store.write(i+\"\\n\")\n",
    "store.close()\n",
    "\n",
    "store = open(\"txt_files/ds1/test.txt\", \"w\")\n",
    "for i in val_ds:\n",
    "    store.write(i+\"\\n\")\n",
    "store.close()"
   ]
  },
  {
   "cell_type": "code",
   "execution_count": null,
   "metadata": {},
   "outputs": [],
   "source": [
    "fc.Path(\"txt_files/ds2/\").mkdir(exist_ok=True)\n",
    "train_ds, val_ds = train_test_split(ds2, test_size=0.1, random_state=42)\n",
    "\n",
    "\n",
    "store = open(\"txt_files/ds2/train.txt\", \"w\")\n",
    "for i in train_ds:\n",
    "    store.write(i+\"\\n\")\n",
    "store.close()\n",
    "\n",
    "store = open(\"txt_files/ds2/test.txt\", \"w\")\n",
    "for i in val_ds:\n",
    "    store.write(i+\"\\n\")\n",
    "store.close()"
   ]
  },
  {
   "cell_type": "code",
   "execution_count": null,
   "metadata": {},
   "outputs": [],
   "source": [
    "fc.Path(\"txt_files/ds3/\").mkdir(exist_ok=True)\n",
    "train_ds, val_ds = train_test_split(ds3, test_size=0.1, random_state=42)\n",
    "\n",
    "\n",
    "store = open(\"txt_files/ds3/train.txt\", \"w\")\n",
    "for i in train_ds:\n",
    "    store.write(i+\"\\n\")\n",
    "store.close()\n",
    "\n",
    "store = open(\"txt_files/ds3/test.txt\", \"w\")\n",
    "for i in val_ds:\n",
    "    store.write(i+\"\\n\")\n",
    "store.close()"
   ]
  },
  {
   "cell_type": "code",
   "execution_count": null,
   "metadata": {},
   "outputs": [],
   "source": [
    "fc.Path(\"txt_files/ds4/\").mkdir(exist_ok=True)\n",
    "train_ds, val_ds = train_test_split(ds4, test_size=0.1, random_state=42)\n",
    "\n",
    "\n",
    "store = open(\"txt_files/ds4/train.txt\", \"w\")\n",
    "for i in train_ds:\n",
    "    store.write(i+\"\\n\")\n",
    "store.close()\n",
    "\n",
    "store = open(\"txt_files/ds4/test.txt\", \"w\")\n",
    "for i in val_ds:\n",
    "    store.write(i+\"\\n\")\n",
    "store.close()"
   ]
  }
 ],
 "metadata": {
  "kernelspec": {
   "display_name": "Python 3 (ipykernel)",
   "language": "python",
   "name": "python3"
  },
  "language_info": {
   "codemirror_mode": {
    "name": "ipython",
    "version": 3
   },
   "file_extension": ".py",
   "mimetype": "text/x-python",
   "name": "python",
   "nbconvert_exporter": "python",
   "pygments_lexer": "ipython3",
   "version": "3.12.11"
  }
 },
 "nbformat": 4,
 "nbformat_minor": 4
}
