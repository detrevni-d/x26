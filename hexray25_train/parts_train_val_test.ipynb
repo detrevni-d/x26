{
 "cells": [
  {
   "cell_type": "markdown",
   "metadata": {},
   "source": [
    "## Parts segmentation\n",
    "- we already wrote an eda notebook at eda/00_parts_seg.ipynb\n",
    "- it outputs `bg_imgs.txt`, we will use this as base for everything."
   ]
  },
  {
   "cell_type": "code",
   "execution_count": null,
   "metadata": {},
   "outputs": [],
   "source": [
    "import fastcore.all as fc\n",
    "import numpy as np\n",
    "\n",
    "from hexray25.coco_utils import COCO\n",
    "from sklearn.model_selection import train_test_split\n",
    "from tqdm import tqdm\n",
    "from PIL import Image\n",
    "\n",
    "import matplotlib.pyplot as plt\n",
    "%matplotlib inline"
   ]
  },
  {
   "cell_type": "code",
   "execution_count": null,
   "metadata": {},
   "outputs": [],
   "source": [
    "root = fc.Path(\"/home/ubuntu/foundations/vjt-data/\")\n",
    "images_loc = fc.L((root / \"images\").glob(\"*.png\"))\n",
    "print(f\"total images: {len(images_loc)}\")\n",
    "annots1 = COCO.for_vjt(root / \"annotations/phase6_background_separation_27apr24.json\")\n",
    "annots2 = COCO.for_vjt(root / \"annotations/background_seperation_ds3_ds4_bg_jan12_2025_fixed.json\")\n",
    "annots3 = COCO.for_vjt(root / \"annotations/full_bg_backup_may2025_fixed.json\")"
   ]
  },
  {
   "cell_type": "code",
   "execution_count": null,
   "metadata": {},
   "outputs": [],
   "source": [
    "all_imgs = annots1.imgname + annots2.imgname + annots3.imgname\n",
    "#all_imgs = annots3.imgname\n",
    "all_imgs \n"
   ]
  },
  {
   "cell_type": "code",
   "execution_count": null,
   "metadata": {},
   "outputs": [],
   "source": [
    "def get_annot_file(img_name):\n",
    "    if img_name in annots1.imgname:\n",
    "        return annots1\n",
    "    elif img_name in annots2.imgname:\n",
    "        return annots2\n",
    "    elif img_name in annots3.imgname:\n",
    "        return annots3\n",
    "    else:\n",
    "        return None\n"
   ]
  },
  {
   "cell_type": "markdown",
   "metadata": {},
   "source": [
    "> split the dataset into train and test "
   ]
  },
  {
   "cell_type": "code",
   "execution_count": null,
   "metadata": {},
   "outputs": [],
   "source": [
    "train_ds, val_ds = train_test_split(all_imgs, test_size=0.1, random_state=42)\n",
    "\n",
    "fc.Path(\"ds/parts/\").mkdir(exist_ok=True)\n",
    "\n",
    "store = open(\"ds/parts/train.txt\", \"w\")\n",
    "for i in train_ds:\n",
    "    store.write(i+\"\\n\")\n",
    "store.close()\n",
    "\n",
    "store = open(\"ds/parts/test.txt\", \"w\")\n",
    "for i in val_ds:\n",
    "    store.write(i+\"\\n\")\n",
    "store.close()"
   ]
  },
  {
   "cell_type": "code",
   "execution_count": null,
   "metadata": {},
   "outputs": [],
   "source": [
    "img_name = all_imgs[np.random.randint(len(all_imgs))]\n",
    "annots = get_annot_file(img_name)\n",
    "I, anns = annots.loadimgAnns(img_name=img_name, root=root)\n",
    "print(\"before filtering\", len(anns))\n",
    "anns = [ann for ann in anns if ann['category_id'] == 1]\n",
    "print(\"after filtering\", len(anns))\n"
   ]
  },
  {
   "cell_type": "code",
   "execution_count": null,
   "metadata": {},
   "outputs": [],
   "source": [
    "annots.print_stats()"
   ]
  },
  {
   "cell_type": "markdown",
   "metadata": {},
   "source": [
    "> we will use only `parts` for training."
   ]
  },
  {
   "cell_type": "code",
   "execution_count": null,
   "metadata": {},
   "outputs": [],
   "source": [
    "mask = np.zeros((I.shape[0], I.shape[1]))\n",
    "for ann in anns:\n",
    "    mask+=annots.annToMask(ann)\n",
    "\n",
    "mask = mask.astype(np.uint8)\n",
    "\n",
    "fig, ax = plt.subplots(1, 2, figsize=(10, 5))\n",
    "ax[0].imshow(I)\n",
    "ax[1].imshow(mask)\n",
    "plt.show()"
   ]
  },
  {
   "cell_type": "code",
   "execution_count": null,
   "metadata": {},
   "outputs": [],
   "source": [
    "fc.Path(\"ds/parts/masks/\").mkdir(exist_ok=True)\n",
    "for img_name in tqdm(all_imgs):\n",
    "    annots = get_annot_file(img_name)\n",
    "    I, anns = annots.loadimgAnns(img_name=img_name, root=root)\n",
    "    anns = [ann for ann in anns if ann['category_id'] == 1]\n",
    "    \n",
    "    mask = np.zeros((I.shape[0], I.shape[1]))\n",
    "    for ann in anns:\n",
    "        mask+=annots.annToMask(ann)\n",
    "    \n",
    "    mask[mask>0] = 1\n",
    "    mask[mask==1] = 255\n",
    "\n",
    "    mask = mask.astype(np.uint8)\n",
    "    Image.fromarray(mask).save(fc.Path(\"ds/parts/masks/\") / f\"{img_name}\")"
   ]
  },
  {
   "cell_type": "code",
   "execution_count": null,
   "metadata": {},
   "outputs": [],
   "source": []
  }
 ],
 "metadata": {
  "kernelspec": {
   "display_name": ".venv",
   "language": "python",
   "name": "python3"
  },
  "language_info": {
   "codemirror_mode": {
    "name": "ipython",
    "version": 3
   },
   "file_extension": ".py",
   "mimetype": "text/x-python",
   "name": "python",
   "nbconvert_exporter": "python",
   "pygments_lexer": "ipython3",
   "version": "3.12.11"
  }
 },
 "nbformat": 4,
 "nbformat_minor": 2
}
