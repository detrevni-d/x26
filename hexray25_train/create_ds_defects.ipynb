{
 "cells": [
  {
   "cell_type": "markdown",
   "metadata": {},
   "source": [
    "> we will create dataset for training"
   ]
  },
  {
   "cell_type": "markdown",
   "metadata": {},
   "source": [
    "## DS1 - fmmd and all_defects\n",
    "- first go to `hexray25/configs/dataset_config.py` and see if the paths are set properly\n",
    "\n",
    "for DS1, we annotated defects within and outside the part, so we will set `consider_bg=False` (if set to True only defects within parts are considered) and `store_masked_images=False` (background is removed)"
   ]
  },
  {
   "cell_type": "code",
   "execution_count": null,
   "metadata": {},
   "outputs": [],
   "source": [
    "# from hexray25.runners.dataset_creator_vjt import DatasetCreatorVJT\n",
    "# creator = DatasetCreatorVJT(\n",
    "#     ds_name=\"ds1\",\n",
    "#     fmmd=True,\n",
    "#     consider_bg=False,\n",
    "#     store_masked_images=False\n",
    "# )\n",
    "# creator.create_dataset()"
   ]
  },
  {
   "cell_type": "code",
   "execution_count": null,
   "metadata": {},
   "outputs": [],
   "source": [
    "# from hexray25.runners.dataset_creator_vjt import DatasetCreatorVJT\n",
    "# creator = DatasetCreatorVJT(\n",
    "#     ds_name=\"ds1\",\n",
    "#     fmmd=False,\n",
    "#     consider_bg=False,\n",
    "#     store_masked_images=False\n",
    "# )\n",
    "# creator.create_dataset()"
   ]
  },
  {
   "cell_type": "markdown",
   "metadata": {},
   "source": [
    "# DS2, DS3 and DS4\n",
    "they all have only defects annotated within the part"
   ]
  },
  {
   "cell_type": "code",
   "execution_count": null,
   "metadata": {},
   "outputs": [],
   "source": [
    "# from hexray25.runners.dataset_creator_vjt import DatasetCreatorVJT\n",
    "# for ds in [\"ds2\", \"ds3\", \"ds4\"]:\n",
    "#     print(f\"Processing {ds} with fmmd=False means all defects\")\n",
    "#     creator = DatasetCreatorVJT(\n",
    "#         ds_name=ds, \n",
    "#         fmmd=False,\n",
    "#         consider_bg=True,\n",
    "#         store_masked_images=True\n",
    "#     )\n",
    "#     creator.create_dataset()\n",
    "\n",
    "#     print(f\"Processing {ds} with fmmd=True\")\n",
    "#     creator = DatasetCreatorVJT(\n",
    "#         ds_name=ds, \n",
    "#         fmmd=True,\n",
    "#         consider_bg=True,\n",
    "#         store_masked_images=True\n",
    "#     )\n",
    "#     creator.create_dataset()\n",
    "\n"
   ]
  },
  {
   "cell_type": "code",
   "execution_count": null,
   "metadata": {},
   "outputs": [],
   "source": [
    "# import fastcore.all as fc\n",
    "\n",
    "\n",
    "# for ds in [\"ds1\", \"ds2\", \"ds3\", \"ds4\"]:\n",
    "#     train = [i.strip() for i in open(f\"ds/{ds}/train.txt\", \"r\").readlines()]\n",
    "#     val = [i.strip() for i in open(f\"ds/{ds}/test.txt\", \"r\").readlines()]\n",
    "\n",
    "#     fmmd_mask_path = fc.Path(f\"ds/{ds}/defect_mask_fmmd\")\n",
    "#     all_defects_mask_path = fc.Path(f\"ds/{ds}/defect_mask_all_as_one\")\n",
    "#     train_fmmd = [i for i in train if (fc.Path(fmmd_mask_path)/i).exists()]\n",
    "#     val_fmmd = [i for i in val if (fc.Path(fmmd_mask_path)/i).exists()]\n",
    "#     train_all = [i for i in train if (fc.Path(all_defects_mask_path)/i).exists()]\n",
    "#     val_all = [i for i in val if (fc.Path(all_defects_mask_path)/i).exists()]\n",
    "#     print(ds, len(train_fmmd), len(val_fmmd), len(train_all), len(val_all), len(train), len(val))\n",
    "\n",
    "#     x = open(f\"ds/{ds}/train_fmmd.txt\", \"w\")\n",
    "#     for i in train_fmmd:\n",
    "#         x.write(i + \"\\n\")\n",
    "#     x.close()\n",
    "\n",
    "#     x = open(f\"ds/{ds}/test_fmmd.txt\", \"w\")\n",
    "#     for i in val_fmmd:\n",
    "#         x.write(i + \"\\n\")\n",
    "#     x.close()\n",
    "\n",
    "#     x = open(f\"ds/{ds}/train_all.txt\", \"w\")\n",
    "#     for i in train_all:\n",
    "#         x.write(i + \"\\n\")\n",
    "#     x.close()\n",
    "\n",
    "#     x = open(f\"ds/{ds}/test_all.txt\", \"w\")\n",
    "#     for i in val_all:\n",
    "#         x.write(i + \"\\n\")\n",
    "#     x.close()"
   ]
  },
  {
   "cell_type": "code",
   "execution_count": null,
   "metadata": {},
   "outputs": [],
   "source": []
  }
 ],
 "metadata": {
  "kernelspec": {
   "display_name": "Python 3 (ipykernel)",
   "language": "python",
   "name": "python3"
  },
  "language_info": {
   "codemirror_mode": {
    "name": "ipython",
    "version": 3
   },
   "file_extension": ".py",
   "mimetype": "text/x-python",
   "name": "python",
   "nbconvert_exporter": "python",
   "pygments_lexer": "ipython3",
   "version": "3.12.11"
  }
 },
 "nbformat": 4,
 "nbformat_minor": 4
}
